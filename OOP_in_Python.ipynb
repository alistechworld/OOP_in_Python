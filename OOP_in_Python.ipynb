{
  "nbformat": 4,
  "nbformat_minor": 0,
  "metadata": {
    "colab": {
      "provenance": [],
      "authorship_tag": "ABX9TyN22OaB2KIzYuJ/Cjt/4bjl",
      "include_colab_link": true
    },
    "kernelspec": {
      "name": "python3",
      "display_name": "Python 3"
    },
    "language_info": {
      "name": "python"
    }
  },
  "cells": [
    {
      "cell_type": "markdown",
      "metadata": {
        "id": "view-in-github",
        "colab_type": "text"
      },
      "source": [
        "<a href=\"https://colab.research.google.com/github/alistechworld/OOP_in_Python/blob/main/OOP_in_Python.ipynb\" target=\"_parent\"><img src=\"https://colab.research.google.com/assets/colab-badge.svg\" alt=\"Open In Colab\"/></a>"
      ]
    },
    {
      "cell_type": "code",
      "execution_count": 1,
      "metadata": {
        "id": "UAnUis-kUeeT"
      },
      "outputs": [],
      "source": [
        "# OOP : It is different style of writing code\n",
        "# Basic Concepts:\n",
        "  # Object\n",
        "  # Class\n",
        "  # Polymorphisms\n",
        "  # Encapsulation\n",
        "  # Inheritance\n",
        "  # Abstraction"
      ]
    },
    {
      "cell_type": "code",
      "source": [
        "# Class has:\n",
        "  # Data or Property\n",
        "  # Functions or Behaviours"
      ],
      "metadata": {
        "id": "NFoAGhwhb00p"
      },
      "execution_count": 2,
      "outputs": []
    },
    {
      "cell_type": "code",
      "source": [
        "# Basic Structure\n",
        "# class Car:\n",
        "#   color = \"Blue\"\n",
        "#   model = \"Sports\"\n",
        "\n",
        "#   def calculateAvgSpeed(km, time):\n",
        "#     # Some Code"
      ],
      "metadata": {
        "id": "O8jAuTPJb8pi"
      },
      "execution_count": 3,
      "outputs": []
    },
    {
      "cell_type": "code",
      "source": [
        "# Class ka name should be in pascal Case\n",
        "  # ThisIsPascalCase\n",
        "  # thisIsCamelCase\n",
        "  # this_is_snake_case"
      ],
      "metadata": {
        "id": "v1Uf_gyUcLTK"
      },
      "execution_count": 4,
      "outputs": []
    },
    {
      "cell_type": "code",
      "source": [
        "# Object is an instance of class"
      ],
      "metadata": {
        "id": "nnCaAn4mcmPM"
      },
      "execution_count": 5,
      "outputs": []
    },
    {
      "cell_type": "code",
      "source": [
        "# # Object Examples\n",
        "# Car-------WagonaR wagonar = Car()\n",
        "# Sports-----Gilidanda gilidanda = Sports()\n"
      ],
      "metadata": {
        "id": "bMgxE4sSdUHv"
      },
      "execution_count": 6,
      "outputs": []
    },
    {
      "cell_type": "code",
      "source": [
        "L = [1, 2, 3]\n",
        "L"
      ],
      "metadata": {
        "colab": {
          "base_uri": "https://localhost:8080/"
        },
        "id": "g5SXNHukdq7s",
        "outputId": "b5fce7bb-3895-434b-f8a1-812d94d02e08"
      },
      "execution_count": 7,
      "outputs": [
        {
          "output_type": "execute_result",
          "data": {
            "text/plain": [
              "[1, 2, 3]"
            ]
          },
          "metadata": {},
          "execution_count": 7
        }
      ]
    },
    {
      "cell_type": "code",
      "source": [
        "# object Literals\n"
      ],
      "metadata": {
        "id": "C5cqiAGZeCt8"
      },
      "execution_count": 8,
      "outputs": []
    },
    {
      "cell_type": "code",
      "source": [
        "L = list()"
      ],
      "metadata": {
        "id": "y4_3HaYPeFiL"
      },
      "execution_count": 9,
      "outputs": []
    },
    {
      "cell_type": "code",
      "source": [
        "L"
      ],
      "metadata": {
        "colab": {
          "base_uri": "https://localhost:8080/"
        },
        "id": "WYWjarnjeHza",
        "outputId": "4ecafa0a-0711-4d16-9b25-72116fcc852a"
      },
      "execution_count": 10,
      "outputs": [
        {
          "output_type": "execute_result",
          "data": {
            "text/plain": [
              "[]"
            ]
          },
          "metadata": {},
          "execution_count": 10
        }
      ]
    },
    {
      "cell_type": "code",
      "source": [
        "city = str()"
      ],
      "metadata": {
        "id": "4M-UvlzseILc"
      },
      "execution_count": 11,
      "outputs": []
    },
    {
      "cell_type": "code",
      "source": [
        "city"
      ],
      "metadata": {
        "colab": {
          "base_uri": "https://localhost:8080/",
          "height": 35
        },
        "id": "BxCZavlGeLWp",
        "outputId": "488ee09a-cf06-4b54-cfe3-dc059e0b17f2"
      },
      "execution_count": 12,
      "outputs": [
        {
          "output_type": "execute_result",
          "data": {
            "text/plain": [
              "''"
            ],
            "application/vnd.google.colaboratory.intrinsic+json": {
              "type": "string"
            }
          },
          "metadata": {},
          "execution_count": 12
        }
      ]
    },
    {
      "cell_type": "code",
      "source": [
        "# Function Vs Methods\n",
        "# Functions inside class = Methods\n",
        "# Functions are simple functions"
      ],
      "metadata": {
        "id": "zprBIlcaeMfy"
      },
      "execution_count": 13,
      "outputs": []
    },
    {
      "cell_type": "code",
      "source": [
        "len(L) # Function\n",
        "L.append(2) # Method"
      ],
      "metadata": {
        "id": "1uTxFUKKe8-e"
      },
      "execution_count": 14,
      "outputs": []
    },
    {
      "cell_type": "code",
      "source": [
        "# ATM Machine Functionality code with OOP Concepts\n",
        "class Atm:\n",
        "\n",
        "  def __init__(self):\n",
        "    self.pin = \"\"\n",
        "    self.balance = 0\n",
        "\n",
        "    self.menu()\n",
        "\n",
        "  def menu(self):\n",
        "    pass"
      ],
      "metadata": {
        "id": "pZDRdRHxfXoN"
      },
      "execution_count": 17,
      "outputs": []
    },
    {
      "cell_type": "code",
      "source": [],
      "metadata": {
        "id": "N237fjZjglBZ"
      },
      "execution_count": null,
      "outputs": []
    }
  ]
}